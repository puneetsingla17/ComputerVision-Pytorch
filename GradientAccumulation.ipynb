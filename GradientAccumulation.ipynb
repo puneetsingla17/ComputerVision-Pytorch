{
  "nbformat": 4,
  "nbformat_minor": 0,
  "metadata": {
    "colab": {
      "name": "GradientAccumulation.ipynb",
      "provenance": [],
      "collapsed_sections": []
    },
    "kernelspec": {
      "name": "python3",
      "display_name": "Python 3"
    },
    "accelerator": "GPU"
  },
  "cells": [
    {
      "cell_type": "code",
      "metadata": {
        "id": "0vQx9bUlntOk",
        "colab_type": "code",
        "colab": {
          "base_uri": "https://localhost:8080/",
          "height": 35
        },
        "outputId": "9da85459-6f79-4f06-9348-e203a8102f67"
      },
      "source": [
        "\n",
        "import torch\n",
        "import torch.nn as n\n",
        "import numpy as np\n",
        "import matplotlib.pyplot as plt\n",
        "from keras.datasets import mnist\n",
        "import torch.nn.functional as f\n",
        "import torch.optim as op\n",
        "from keras.utils.np_utils import to_categorical"
      ],
      "execution_count": 1,
      "outputs": [
        {
          "output_type": "stream",
          "text": [
            "Using TensorFlow backend.\n"
          ],
          "name": "stderr"
        }
      ]
    },
    {
      "cell_type": "code",
      "metadata": {
        "id": "yKleqVetn3ND",
        "colab_type": "code",
        "colab": {}
      },
      "source": [
        "(xtrain,ytrain),(xvalid,yvalid)=mnist.load_data()"
      ],
      "execution_count": 0,
      "outputs": []
    },
    {
      "cell_type": "code",
      "metadata": {
        "id": "JdjPdezmn57Y",
        "colab_type": "code",
        "colab": {}
      },
      "source": [
        "xtrain1=xtrain.astype(np.float32)/255\n",
        "yonehot=to_categorical(ytrain,10)"
      ],
      "execution_count": 0,
      "outputs": []
    },
    {
      "cell_type": "code",
      "metadata": {
        "id": "ruPcMTq5n8GJ",
        "colab_type": "code",
        "colab": {}
      },
      "source": [
        "x1,y1=xtrain[:64],ytrain[:64]\n",
        "x2,y2=xtrain[64:128],ytrain[64:128]"
      ],
      "execution_count": 0,
      "outputs": []
    },
    {
      "cell_type": "code",
      "metadata": {
        "id": "DQYMVr19Ulan",
        "colab_type": "code",
        "colab": {}
      },
      "source": [
        "x1=x1.reshape(64,-1)\n",
        "x2=x2.reshape(64,-1)"
      ],
      "execution_count": 0,
      "outputs": []
    },
    {
      "cell_type": "code",
      "metadata": {
        "id": "2JPC6mCZSnks",
        "colab_type": "code",
        "colab": {}
      },
      "source": [
        "class model(n.Module):\n",
        "  def __init__(self):\n",
        "    super().__init__()\n",
        "    self.l1=n.Linear(784,16)\n",
        "    self.l2=n.Linear(16,10)\n",
        "  \n",
        "  def forward(self,x):\n",
        "    out=f.relu(self.l1(x))\n",
        "    return self.l2(out)"
      ],
      "execution_count": 0,
      "outputs": []
    },
    {
      "cell_type": "code",
      "metadata": {
        "id": "nT82S7TdViJ0",
        "colab_type": "code",
        "colab": {}
      },
      "source": [
        "model2=model()"
      ],
      "execution_count": 0,
      "outputs": []
    },
    {
      "cell_type": "code",
      "metadata": {
        "id": "JcGgy5Z9V2Ir",
        "colab_type": "code",
        "colab": {}
      },
      "source": [
        "opt=op.Adam(model2.parameters(),lr=0.001)"
      ],
      "execution_count": 0,
      "outputs": []
    },
    {
      "cell_type": "code",
      "metadata": {
        "id": "tVX3ID84WUPj",
        "colab_type": "code",
        "colab": {}
      },
      "source": [
        "x1=torch.tensor(x1).float()\n",
        "y1=torch.LongTensor(y1)\n",
        "x2=torch.tensor(x2).float()\n",
        "y2=torch.LongTensor(y2)"
      ],
      "execution_count": 0,
      "outputs": []
    },
    {
      "cell_type": "code",
      "metadata": {
        "id": "1SN0fVnhZe9s",
        "colab_type": "code",
        "colab": {
          "base_uri": "https://localhost:8080/",
          "height": 87
        },
        "outputId": "8b50cc3a-1227-4406-da57-1fdae3a2f5e3"
      },
      "source": [
        "model2.train()"
      ],
      "execution_count": 9,
      "outputs": [
        {
          "output_type": "execute_result",
          "data": {
            "text/plain": [
              "model(\n",
              "  (l1): Linear(in_features=784, out_features=16, bias=True)\n",
              "  (l2): Linear(in_features=16, out_features=10, bias=True)\n",
              ")"
            ]
          },
          "metadata": {
            "tags": []
          },
          "execution_count": 9
        }
      ]
    },
    {
      "cell_type": "code",
      "metadata": {
        "id": "MIy3HFo1Wz6L",
        "colab_type": "code",
        "colab": {}
      },
      "source": [
        "loss=n.CrossEntropyLoss()"
      ],
      "execution_count": 0,
      "outputs": []
    },
    {
      "cell_type": "code",
      "metadata": {
        "id": "QsjyqxIebw-n",
        "colab_type": "code",
        "colab": {}
      },
      "source": [
        "x1=torch.FloatTensor(x1)\n",
        "y1=torch.LongTensor(y1)"
      ],
      "execution_count": 0,
      "outputs": []
    },
    {
      "cell_type": "code",
      "metadata": {
        "id": "QxxSPNCHp1YW",
        "colab_type": "code",
        "colab": {}
      },
      "source": [
        "pred=model2.forward(x1)"
      ],
      "execution_count": 0,
      "outputs": []
    },
    {
      "cell_type": "code",
      "metadata": {
        "id": "AJ5k6xh2p1gc",
        "colab_type": "code",
        "colab": {
          "base_uri": "https://localhost:8080/",
          "height": 35
        },
        "outputId": "2c49810d-a515-4b55-9366-3bc962f8d48a"
      },
      "source": [
        "pred.shape"
      ],
      "execution_count": 14,
      "outputs": [
        {
          "output_type": "execute_result",
          "data": {
            "text/plain": [
              "torch.Size([64, 10])"
            ]
          },
          "metadata": {
            "tags": []
          },
          "execution_count": 14
        }
      ]
    },
    {
      "cell_type": "code",
      "metadata": {
        "id": "6nwleoQ_W31Y",
        "colab_type": "code",
        "colab": {}
      },
      "source": [
        "opt.zero_grad()\n",
        "loss1=loss(pred,y1)"
      ],
      "execution_count": 0,
      "outputs": []
    },
    {
      "cell_type": "code",
      "metadata": {
        "id": "eOzKnQDDbD1t",
        "colab_type": "code",
        "colab": {}
      },
      "source": [
        "loss1.backward()"
      ],
      "execution_count": 0,
      "outputs": []
    },
    {
      "cell_type": "code",
      "metadata": {
        "id": "k2rI_dPGXRLq",
        "colab_type": "code",
        "colab": {}
      },
      "source": [
        "l=list(model2.parameters())[1]"
      ],
      "execution_count": 0,
      "outputs": []
    },
    {
      "cell_type": "code",
      "metadata": {
        "id": "EK6UM7sxXUDi",
        "colab_type": "code",
        "colab": {
          "base_uri": "https://localhost:8080/",
          "height": 52
        },
        "outputId": "9261bcb5-2757-4dec-c764-a138611cb0ab"
      },
      "source": [
        "l.grad"
      ],
      "execution_count": 18,
      "outputs": [
        {
          "output_type": "execute_result",
          "data": {
            "text/plain": [
              "tensor([ 0.0277,  0.0311,  0.0789, -0.0146,  0.1397,  0.0064,  0.0716,  0.0281,\n",
              "         0.0202,  0.0117, -0.0194,  0.0504,  0.0515,  0.0385,  0.0170,  0.0296])"
            ]
          },
          "metadata": {
            "tags": []
          },
          "execution_count": 18
        }
      ]
    },
    {
      "cell_type": "code",
      "metadata": {
        "id": "FO30BNANXV8j",
        "colab_type": "code",
        "colab": {}
      },
      "source": [
        "pred=model2.forward(x1)\n",
        "loss1=loss(pred,y1)"
      ],
      "execution_count": 0,
      "outputs": []
    },
    {
      "cell_type": "code",
      "metadata": {
        "id": "xjKYhee5qdq0",
        "colab_type": "code",
        "colab": {}
      },
      "source": [
        "loss1.backward()"
      ],
      "execution_count": 0,
      "outputs": []
    },
    {
      "cell_type": "code",
      "metadata": {
        "id": "PAr_XhK0ZqpE",
        "colab_type": "code",
        "colab": {
          "base_uri": "https://localhost:8080/",
          "height": 52
        },
        "outputId": "22bb1ff4-eae9-45fd-9b7c-3aa6f1468c50"
      },
      "source": [
        "l=list(model2.parameters())[1]\n",
        "l.grad"
      ],
      "execution_count": 24,
      "outputs": [
        {
          "output_type": "execute_result",
          "data": {
            "text/plain": [
              "tensor([ 0.0553,  0.0621,  0.1578, -0.0293,  0.2795,  0.0129,  0.1432,  0.0563,\n",
              "         0.0405,  0.0234, -0.0388,  0.1007,  0.1031,  0.0769,  0.0340,  0.0592])"
            ]
          },
          "metadata": {
            "tags": []
          },
          "execution_count": 24
        }
      ]
    },
    {
      "cell_type": "code",
      "metadata": {
        "id": "XDTRdMArYF_S",
        "colab_type": "code",
        "colab": {}
      },
      "source": [
        "# Doing multiple backward keeps on adding the gradients to previous gradients"
      ],
      "execution_count": 0,
      "outputs": []
    },
    {
      "cell_type": "code",
      "metadata": {
        "id": "ciw_RjBEaDUV",
        "colab_type": "code",
        "colab": {}
      },
      "source": [
        "pred=model2.forward(x1)"
      ],
      "execution_count": 0,
      "outputs": []
    },
    {
      "cell_type": "code",
      "metadata": {
        "id": "Z_c-0u5OaDcU",
        "colab_type": "code",
        "colab": {}
      },
      "source": [
        "l=list(model2.parameters())[1]"
      ],
      "execution_count": 0,
      "outputs": []
    },
    {
      "cell_type": "code",
      "metadata": {
        "id": "1AcB5gDNYITi",
        "colab_type": "code",
        "colab": {}
      },
      "source": [
        "l."
      ],
      "execution_count": 0,
      "outputs": []
    },
    {
      "cell_type": "code",
      "metadata": {
        "id": "tl9dol2PaQ3q",
        "colab_type": "code",
        "colab": {}
      },
      "source": [
        ""
      ],
      "execution_count": 0,
      "outputs": []
    },
    {
      "cell_type": "code",
      "metadata": {
        "id": "XyqjMRJHaRaj",
        "colab_type": "code",
        "colab": {}
      },
      "source": [
        ""
      ],
      "execution_count": 0,
      "outputs": []
    },
    {
      "cell_type": "code",
      "metadata": {
        "id": "Qt1JyxnXaRd6",
        "colab_type": "code",
        "colab": {}
      },
      "source": [
        ""
      ],
      "execution_count": 0,
      "outputs": []
    },
    {
      "cell_type": "code",
      "metadata": {
        "id": "hptGdrsKaRhE",
        "colab_type": "code",
        "colab": {}
      },
      "source": [
        ""
      ],
      "execution_count": 0,
      "outputs": []
    },
    {
      "cell_type": "code",
      "metadata": {
        "id": "f-OCAbDAYKFg",
        "colab_type": "code",
        "colab": {}
      },
      "source": [
        "p2=model1.forward(x2)\n",
        "l2=loss(p2,y2)"
      ],
      "execution_count": 0,
      "outputs": []
    },
    {
      "cell_type": "code",
      "metadata": {
        "id": "UKJNZLBgYehj",
        "colab_type": "code",
        "colab": {}
      },
      "source": [
        "l2.backward()"
      ],
      "execution_count": 0,
      "outputs": []
    },
    {
      "cell_type": "code",
      "metadata": {
        "id": "te5HJj3oYjdC",
        "colab_type": "code",
        "colab": {}
      },
      "source": [
        "l=list(model1.parameters())[1]"
      ],
      "execution_count": 0,
      "outputs": []
    },
    {
      "cell_type": "code",
      "metadata": {
        "id": "S09795eJYm4Z",
        "colab_type": "code",
        "colab": {
          "base_uri": "https://localhost:8080/",
          "height": 52
        },
        "outputId": "0095e6ae-9154-4753-fec1-98aa6107f712"
      },
      "source": [
        "l.grad"
      ],
      "execution_count": 91,
      "outputs": [
        {
          "output_type": "execute_result",
          "data": {
            "text/plain": [
              "tensor([-0.0248,  0.1098, -0.0093, -0.0205, -0.0097,  0.0323,  0.1816, -0.0049,\n",
              "         0.0644,  0.0239,  0.0184, -0.0537,  0.0755,  0.0060,  0.0597,  0.0603])"
            ]
          },
          "metadata": {
            "tags": []
          },
          "execution_count": 91
        }
      ]
    },
    {
      "cell_type": "code",
      "metadata": {
        "id": "UdtVQ4xyYpD_",
        "colab_type": "code",
        "colab": {}
      },
      "source": [
        "p1=model1.forward(x1)\n",
        "l1=loss(p1,y1)\n",
        "l1.backward()\n",
        "l=list(model1.parameters())[1]"
      ],
      "execution_count": 0,
      "outputs": []
    },
    {
      "cell_type": "code",
      "metadata": {
        "id": "79hilCOtaxca",
        "colab_type": "code",
        "colab": {
          "base_uri": "https://localhost:8080/",
          "height": 52
        },
        "outputId": "fe7311dc-eb88-4547-fdf4-d2024c64d932"
      },
      "source": [
        "l.grad"
      ],
      "execution_count": 93,
      "outputs": [
        {
          "output_type": "execute_result",
          "data": {
            "text/plain": [
              "tensor([-0.0300,  0.2327,  0.0049, -0.0711, -0.0157,  0.0694,  0.3721,  0.0198,\n",
              "         0.1309,  0.0337,  0.0252, -0.1052,  0.1722, -0.0078,  0.1495,  0.1156])"
            ]
          },
          "metadata": {
            "tags": []
          },
          "execution_count": 93
        }
      ]
    },
    {
      "cell_type": "code",
      "metadata": {
        "id": "mEBYfacraytx",
        "colab_type": "code",
        "colab": {
          "base_uri": "https://localhost:8080/",
          "height": 35
        },
        "outputId": "810556ac-80fc-46f2-f238-a0ee8eb3781c"
      },
      "source": [
        "l1"
      ],
      "execution_count": 94,
      "outputs": [
        {
          "output_type": "execute_result",
          "data": {
            "text/plain": [
              "tensor(33.3876, grad_fn=<NllLossBackward>)"
            ]
          },
          "metadata": {
            "tags": []
          },
          "execution_count": 94
        }
      ]
    },
    {
      "cell_type": "code",
      "metadata": {
        "id": "4ghF-s12a6Ga",
        "colab_type": "code",
        "colab": {}
      },
      "source": [
        ""
      ],
      "execution_count": 0,
      "outputs": []
    }
  ]
}