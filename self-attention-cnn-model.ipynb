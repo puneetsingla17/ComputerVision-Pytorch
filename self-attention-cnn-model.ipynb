{
 "cells": [
  {
   "cell_type": "code",
   "execution_count": 1,
   "metadata": {
    "_cell_guid": "b1076dfc-b9ad-4769-8c92-a6c4dae69d19",
    "_uuid": "8f2839f25d086af736a60e9eeb907d3b93b6e0e5"
   },
   "outputs": [
    {
     "name": "stderr",
     "output_type": "stream",
     "text": [
      "Using TensorFlow backend.\n"
     ]
    }
   ],
   "source": [
    "# This Python 3 environment comes with many helpful analytics libraries installed\n",
    "# It is defined by the kaggle/python docker image: https://github.com/kaggle/docker-python\n",
    "# For example, here's several helpful packages to load in \n",
    "\n",
    "import numpy as np # linear algebra\n",
    "import pandas as pd # data processing, CSV file I/O (e.g. pd.read_csv)\n",
    "\n",
    "# Input data files are available in the \"../input/\" directory.\n",
    "# For example, running this (by clicking run or pressing Shift+Enter) will list all files under the input directory\n",
    "import os\n",
    "import torch\n",
    "import torch.nn as N\n",
    "import torch.nn.functional as f\n",
    "import matplotlib.pyplot as plt\n",
    "from keras.datasets import cifar10\n",
    "from keras.utils.np_utils import to_categorical\n",
    "import torch.optim as op\n",
    "# Any results you write to the current directory are saved as output."
   ]
  },
  {
   "cell_type": "code",
   "execution_count": 2,
   "metadata": {
    "_cell_guid": "79c7e3d0-c299-4dcb-8224-4455121ee9b0",
    "_uuid": "d629ff2d2480ee46fbb7e2d37f6b5fab8052498a"
   },
   "outputs": [
    {
     "name": "stdout",
     "output_type": "stream",
     "text": [
      "Downloading data from https://www.cs.toronto.edu/~kriz/cifar-10-python.tar.gz\n",
      "170500096/170498071 [==============================] - 4s 0us/step\n"
     ]
    }
   ],
   "source": [
    "(xtrain,ytrain),(xtest,ytest)=cifar10.load_data()"
   ]
  },
  {
   "cell_type": "code",
   "execution_count": 3,
   "metadata": {},
   "outputs": [
    {
     "data": {
      "text/plain": [
       "(50000, 32, 32, 3)"
      ]
     },
     "execution_count": 3,
     "metadata": {},
     "output_type": "execute_result"
    }
   ],
   "source": [
    "xtrain.shape"
   ]
  },
  {
   "cell_type": "code",
   "execution_count": 4,
   "metadata": {},
   "outputs": [],
   "source": [
    "ytrain_onehot=to_categorical(ytrain,10)\n",
    "ytest_onehot=to_categorical(ytest,10)"
   ]
  },
  {
   "cell_type": "code",
   "execution_count": 5,
   "metadata": {},
   "outputs": [],
   "source": [
    "class cifarmodel(N.Module):\n",
    "    def __init__(self):\n",
    "        super().__init__()\n",
    "        self.q1=N.Conv2d(3,4,3,padding=1)\n",
    "        self.k1=N.Conv2d(3,4,3,padding=1)\n",
    "        self.v1=N.Conv2d(3,16,3,padding=1)\n",
    "        self.p1=N.Conv2d(3,16,3,padding=1)\n",
    "        self.maxp1=N.MaxPool2d(2,2)\n",
    "        self.avg1=N.AvgPool2d(2,2)    #Adaptive Avgpool is like Global Average pooling\n",
    "        self.b1=N.BatchNorm2d(16)\n",
    "        \n",
    "        self.q2=N.Conv2d(32,4,3,padding=1)\n",
    "        self.k2=N.Conv2d(32,4,3,padding=1)\n",
    "        self.v2=N.Conv2d(32,32,3,padding=1)\n",
    "        self.p2=N.Conv2d(32,32,3,padding=1)\n",
    "        self.maxp2=N.MaxPool2d(2,2)\n",
    "        self.avg2=N.AvgPool2d(2,2)\n",
    "        self.b2=N.BatchNorm2d(32)\n",
    "        \n",
    "        self.q3=N.Conv2d(64,4,3,padding=1)\n",
    "        self.k3=N.Conv2d(64,4,3,padding=1)\n",
    "        self.v3=N.Conv2d(64,64,3,padding=1)\n",
    "        self.p3=N.Conv2d(64,64,3,padding=1)\n",
    "        self.maxp3=N.MaxPool2d(2,2)\n",
    "        self.avg3=N.AvgPool2d(2,2)\n",
    "        self.b3=N.BatchNorm2d(64)\n",
    "        self.fc1=N.Linear(2048,10)\n",
    "        \n",
    "    def attention(self,q,k,v,p,b,x):\n",
    "            \n",
    "        # x bs x h x w x c \n",
    "        # x has to be fed into layer in shape of bs x c x h x w\n",
    "        h=x.shape[1]\n",
    "        w=x.shape[2]\n",
    "        bs=x.shape[0]\n",
    "        x1=x\n",
    "        x=x.permute(0,3,1,2)\n",
    "\n",
    "        qv=q(x)     \n",
    "        kv=k(x)\n",
    "        vv=v(x)\n",
    "        pv=p(x)\n",
    "        C2=vv.shape[1]\n",
    "\n",
    "        qv=qv.permute(0,2,3,1)\n",
    "        kv=kv.permute(0,2,3,1)\n",
    "        #print(vv.shape)\n",
    "        vv=vv.permute(0,2,3,1)\n",
    "\n",
    "        vf=torch.flatten(vv,1,2)\n",
    "        qf= torch.flatten(qv,1,2)  # bs x hw x c1\n",
    "        kf= torch.flatten(kv,1,2)  # bs x hw x c1\n",
    "\n",
    "        attenscalar=torch.matmul(qf,kf.permute(0,2,1))  # bs x hw x hw\n",
    "        attenprob = torch.nn.Softmax(dim=-1)(attenscalar) # bs x hw x hw\n",
    "        #print(attenprob.shape)\n",
    "        #print(vf.shape)\n",
    "\n",
    "        nqv=torch.matmul(attenprob,vf)     # bs x hw x C2\n",
    "        nqv=nqv.view(-1,h,w,C2)\n",
    "        nqv=f.relu(nqv)\n",
    "        #print(pv.shape)\n",
    "        #print(nqv.shape)\n",
    "        nqv=nqv+pv.permute(0,2,3,1)\n",
    "        nqv=b(nqv.permute(0,3,1,2))\n",
    "        \n",
    "        return nqv.permute(0,2,3,1)\n",
    "        \n",
    "    def forward(self,x):\n",
    "        #print(\"1\")\n",
    "        out=self.attention(self.q1,self.k1,self.v1,self.p1,self.b1,x)\n",
    "        #print(\"2\")\n",
    "        #out=f.relu(out)\n",
    "        max1=self.maxp1(out.permute(0,3,1,2))\n",
    "        avg1=self.avg1(out.permute(0,3,1,2))\n",
    "        cat1=torch.cat([max1,avg1],dim=1)\n",
    "        out=cat1.permute(0,2,3,1)\n",
    "        \n",
    "        out1=self.attention(self.q2,self.k2,self.v2,self.p2,self.b2,out)\n",
    "        #out1=f.relu(out1)\n",
    "        max2=self.maxp2(out1.permute(0,3,1,2))\n",
    "        avg2=self.avg2(out1.permute(0,3,1,2))\n",
    "        cat2=torch.cat([max2,avg2],dim=1)\n",
    "        out1=cat2.permute(0,2,3,1)\n",
    "\n",
    "        out2=self.attention(self.q3,self.k3,self.v3,self.p3,self.b3,out1)\n",
    "        #out2=f.relu(out2)\n",
    "        max3=self.maxp3(out2.permute(0,3,1,2))\n",
    "        avg3=self.avg3(out2.permute(0,3,1,2))\n",
    "        cat3=torch.cat([max3,avg3],dim=1)\n",
    "        out2=cat3.permute(0,2,3,1)\n",
    "        out2=torch.flatten(out2,1,3)\n",
    "        fc=self.fc1(out2)\n",
    "        return fc\n",
    "            "
   ]
  },
  {
   "cell_type": "code",
   "execution_count": 6,
   "metadata": {},
   "outputs": [],
   "source": [
    "xtrain1=xtrain.astype(np.float32)/255\n"
   ]
  },
  {
   "cell_type": "code",
   "execution_count": 7,
   "metadata": {},
   "outputs": [],
   "source": [
    "model1=cifarmodel()"
   ]
  },
  {
   "cell_type": "code",
   "execution_count": 8,
   "metadata": {},
   "outputs": [
    {
     "data": {
      "text/plain": [
       "cifarmodel(\n",
       "  (q1): Conv2d(3, 4, kernel_size=(3, 3), stride=(1, 1), padding=(1, 1))\n",
       "  (k1): Conv2d(3, 4, kernel_size=(3, 3), stride=(1, 1), padding=(1, 1))\n",
       "  (v1): Conv2d(3, 16, kernel_size=(3, 3), stride=(1, 1), padding=(1, 1))\n",
       "  (p1): Conv2d(3, 16, kernel_size=(3, 3), stride=(1, 1), padding=(1, 1))\n",
       "  (maxp1): MaxPool2d(kernel_size=2, stride=2, padding=0, dilation=1, ceil_mode=False)\n",
       "  (avg1): AvgPool2d(kernel_size=2, stride=2, padding=0)\n",
       "  (b1): BatchNorm2d(16, eps=1e-05, momentum=0.1, affine=True, track_running_stats=True)\n",
       "  (q2): Conv2d(32, 4, kernel_size=(3, 3), stride=(1, 1), padding=(1, 1))\n",
       "  (k2): Conv2d(32, 4, kernel_size=(3, 3), stride=(1, 1), padding=(1, 1))\n",
       "  (v2): Conv2d(32, 32, kernel_size=(3, 3), stride=(1, 1), padding=(1, 1))\n",
       "  (p2): Conv2d(32, 32, kernel_size=(3, 3), stride=(1, 1), padding=(1, 1))\n",
       "  (maxp2): MaxPool2d(kernel_size=2, stride=2, padding=0, dilation=1, ceil_mode=False)\n",
       "  (avg2): AvgPool2d(kernel_size=2, stride=2, padding=0)\n",
       "  (b2): BatchNorm2d(32, eps=1e-05, momentum=0.1, affine=True, track_running_stats=True)\n",
       "  (q3): Conv2d(64, 4, kernel_size=(3, 3), stride=(1, 1), padding=(1, 1))\n",
       "  (k3): Conv2d(64, 4, kernel_size=(3, 3), stride=(1, 1), padding=(1, 1))\n",
       "  (v3): Conv2d(64, 64, kernel_size=(3, 3), stride=(1, 1), padding=(1, 1))\n",
       "  (p3): Conv2d(64, 64, kernel_size=(3, 3), stride=(1, 1), padding=(1, 1))\n",
       "  (maxp3): MaxPool2d(kernel_size=2, stride=2, padding=0, dilation=1, ceil_mode=False)\n",
       "  (avg3): AvgPool2d(kernel_size=2, stride=2, padding=0)\n",
       "  (b3): BatchNorm2d(64, eps=1e-05, momentum=0.1, affine=True, track_running_stats=True)\n",
       "  (fc1): Linear(in_features=2048, out_features=10, bias=True)\n",
       ")"
      ]
     },
     "execution_count": 8,
     "metadata": {},
     "output_type": "execute_result"
    }
   ],
   "source": [
    "model1"
   ]
  },
  {
   "cell_type": "code",
   "execution_count": 9,
   "metadata": {},
   "outputs": [
    {
     "data": {
      "text/plain": [
       "121114"
      ]
     },
     "execution_count": 9,
     "metadata": {},
     "output_type": "execute_result"
    }
   ],
   "source": [
    "# total number of weights\n",
    "sum([l.numel() for l in model1.parameters()])"
   ]
  },
  {
   "cell_type": "code",
   "execution_count": 10,
   "metadata": {},
   "outputs": [],
   "source": [
    "l1=list(model1.parameters())[0]"
   ]
  },
  {
   "cell_type": "code",
   "execution_count": 11,
   "metadata": {},
   "outputs": [
    {
     "data": {
      "text/plain": [
       "108"
      ]
     },
     "execution_count": 11,
     "metadata": {},
     "output_type": "execute_result"
    }
   ],
   "source": [
    "l1.numel()"
   ]
  },
  {
   "cell_type": "code",
   "execution_count": 12,
   "metadata": {},
   "outputs": [],
   "source": [
    "img=torch.randint(0,10,size=(1,8,8,16)).float()\n",
    "q1=N.Conv2d(16,4,3,padding=1)\n",
    "k1=N.Conv2d(16,4,3,padding=1)\n",
    "v1=N.Conv2d(16,16,3,padding=1)\n",
    "p1=N.Conv2d(16,16,3,padding=1)"
   ]
  },
  {
   "cell_type": "code",
   "execution_count": 13,
   "metadata": {},
   "outputs": [],
   "source": [
    "def attention(q,k,v,p,x):\n",
    "            \n",
    "    # x bs x h x w x c \n",
    "    # x has to be fed into layer in shape of bs x c x h x w\n",
    "    h=x.shape[1]\n",
    "    w=x.shape[2]\n",
    "    bs=x.shape[0]\n",
    "    x1=x\n",
    "    x=x.permute(0,3,1,2)\n",
    "\n",
    "    qv=f.relu(q(x))     \n",
    "    kv=f.relu(k(x))\n",
    "    vv=f.relu(v(x))\n",
    "    pv=p(x)\n",
    "    C2=vv.shape[1]\n",
    "\n",
    "    qv=qv.permute(0,2,3,1)\n",
    "    kv=kv.permute(0,2,3,1)\n",
    "    #print(vv.shape)\n",
    "    vv=vv.permute(0,2,3,1)\n",
    "\n",
    "    vf=torch.flatten(vv,1,2)\n",
    "    qf= torch.flatten(qv,1,2)  # bs x hw x c1\n",
    "    kf= torch.flatten(kv,1,2)  # bs x hw x c1\n",
    "\n",
    "    attenscalar=torch.matmul(qf,kf.permute(0,2,1))  # bs x hw x hw\n",
    "    attenprob = torch.nn.Softmax(dim=-1)(attenscalar) # bs x hw x hw\n",
    "    #print(attenprob.shape)\n",
    "    #print(vf.shape)\n",
    "\n",
    "    nqv=torch.matmul(attenprob,vf)     # bs x hw x C2\n",
    "    nqv=nqv.view(-1,h,w,C2)\n",
    "    #print(pv.shape)\n",
    "    #print(nqv.shape)\n",
    "    nqv=nqv+pv.permute(0,2,3,1)\n",
    "\n",
    "    nqv=f.relu(nqv)\n",
    "\n",
    "    return nqv"
   ]
  },
  {
   "cell_type": "code",
   "execution_count": 14,
   "metadata": {},
   "outputs": [],
   "source": [
    "batchx=torch.randn(4,32,32,3)"
   ]
  },
  {
   "cell_type": "code",
   "execution_count": 15,
   "metadata": {},
   "outputs": [
    {
     "data": {
      "text/plain": [
       "torch.Size([4, 32, 32, 3])"
      ]
     },
     "execution_count": 15,
     "metadata": {},
     "output_type": "execute_result"
    }
   ],
   "source": [
    "batchx.shape"
   ]
  },
  {
   "cell_type": "code",
   "execution_count": 16,
   "metadata": {},
   "outputs": [
    {
     "data": {
      "text/plain": [
       "torch.Size([4, 10])"
      ]
     },
     "execution_count": 16,
     "metadata": {},
     "output_type": "execute_result"
    }
   ],
   "source": [
    "model1.forward(batchx).shape"
   ]
  },
  {
   "cell_type": "code",
   "execution_count": 17,
   "metadata": {},
   "outputs": [],
   "source": [
    "max3=N.MaxPool2d(2,2)\n",
    "avg3=N.AvgPool2d(2,2)"
   ]
  },
  {
   "cell_type": "code",
   "execution_count": 18,
   "metadata": {},
   "outputs": [],
   "source": [
    "bm1=max3(batchx.permute(0,3,1,2))"
   ]
  },
  {
   "cell_type": "code",
   "execution_count": 19,
   "metadata": {},
   "outputs": [],
   "source": [
    "avgm1=avg3(batchx.permute(0,3,1,2))"
   ]
  },
  {
   "cell_type": "code",
   "execution_count": 20,
   "metadata": {},
   "outputs": [
    {
     "data": {
      "text/plain": [
       "torch.Size([4, 3, 16, 16])"
      ]
     },
     "execution_count": 20,
     "metadata": {},
     "output_type": "execute_result"
    }
   ],
   "source": [
    "avgm1.shape"
   ]
  },
  {
   "cell_type": "code",
   "execution_count": 21,
   "metadata": {},
   "outputs": [],
   "source": [
    "concat=torch.cat([bm1,avgm1],dim=1)"
   ]
  },
  {
   "cell_type": "code",
   "execution_count": 22,
   "metadata": {},
   "outputs": [
    {
     "data": {
      "text/plain": [
       "torch.Size([4, 6, 16, 16])"
      ]
     },
     "execution_count": 22,
     "metadata": {},
     "output_type": "execute_result"
    }
   ],
   "source": [
    "concat.shape"
   ]
  },
  {
   "cell_type": "code",
   "execution_count": 23,
   "metadata": {},
   "outputs": [
    {
     "data": {
      "text/plain": [
       "32"
      ]
     },
     "execution_count": 23,
     "metadata": {},
     "output_type": "execute_result"
    }
   ],
   "source": [
    "len(list(model1.parameters()))"
   ]
  },
  {
   "cell_type": "code",
   "execution_count": 24,
   "metadata": {},
   "outputs": [
    {
     "data": {
      "text/plain": [
       "121114"
      ]
     },
     "execution_count": 24,
     "metadata": {},
     "output_type": "execute_result"
    }
   ],
   "source": [
    "sum([l.numel() for l in model1.parameters()])"
   ]
  },
  {
   "cell_type": "code",
   "execution_count": 25,
   "metadata": {},
   "outputs": [],
   "source": [
    "optim1=op.Adam(model1.parameters(),lr=0.001)"
   ]
  },
  {
   "cell_type": "code",
   "execution_count": 26,
   "metadata": {},
   "outputs": [],
   "source": [
    "loss=N.CrossEntropyLoss()"
   ]
  },
  {
   "cell_type": "code",
   "execution_count": 27,
   "metadata": {},
   "outputs": [],
   "source": [
    "nepochs=10\n",
    "batchsize=32\n"
   ]
  },
  {
   "cell_type": "code",
   "execution_count": 28,
   "metadata": {},
   "outputs": [],
   "source": [
    "device1=torch.device(\"cuda\" if torch.cuda.is_available() else 'cpu')"
   ]
  },
  {
   "cell_type": "code",
   "execution_count": 29,
   "metadata": {},
   "outputs": [],
   "source": [
    "model1=model1.to(device1)\n",
    "loss1=loss.to(device1)"
   ]
  },
  {
   "cell_type": "code",
   "execution_count": 30,
   "metadata": {},
   "outputs": [
    {
     "data": {
      "text/plain": [
       "device(type='cuda')"
      ]
     },
     "execution_count": 30,
     "metadata": {},
     "output_type": "execute_result"
    }
   ],
   "source": [
    "device1"
   ]
  },
  {
   "cell_type": "code",
   "execution_count": 31,
   "metadata": {},
   "outputs": [
    {
     "name": "stdout",
     "output_type": "stream",
     "text": [
      "loss is :- 1.6272584  and count is:- 100\n",
      "loss is :- 1.5400829  and count is:- 200\n",
      "loss is :- 1.1788496  and count is:- 300\n",
      "loss is :- 1.58504  and count is:- 400\n",
      "loss is :- 1.7441494  and count is:- 500\n",
      "loss is :- 1.2607884  and count is:- 600\n",
      "loss is :- 1.5828398  and count is:- 700\n",
      "loss is :- 1.1991591  and count is:- 800\n",
      "loss is :- 1.4685826  and count is:- 900\n",
      "loss is :- 1.0634173  and count is:- 1000\n",
      "loss is :- 1.3256643  and count is:- 1100\n",
      "loss is :- 1.2528012  and count is:- 1200\n",
      "loss is :- 1.4224787  and count is:- 1300\n",
      "loss is :- 1.2087339  and count is:- 1400\n",
      "loss is :- 0.932765  and count is:- 1500\n",
      "loss is :- 0.87594  and count is:- 1600\n",
      "loss is :- 0.6991373  and count is:- 1700\n",
      "loss is :- 1.1072857  and count is:- 1800\n",
      "loss is :- 1.2854531  and count is:- 1900\n",
      "loss is :- 1.0832498  and count is:- 2000\n",
      "loss is :- 0.8555817  and count is:- 2100\n",
      "loss is :- 1.0035678  and count is:- 2200\n",
      "loss is :- 1.2132678  and count is:- 2300\n",
      "loss is :- 0.8103312  and count is:- 2400\n",
      "loss is :- 1.0834401  and count is:- 2500\n",
      "loss is :- 1.0005639  and count is:- 2600\n",
      "loss is :- 1.0374618  and count is:- 2700\n",
      "loss is :- 1.1889905  and count is:- 2800\n",
      "loss is :- 1.0129809  and count is:- 2900\n",
      "loss is :- 0.6912443  and count is:- 3000\n",
      "loss is :- 0.82707065  and count is:- 3100\n",
      "loss is :- 0.9135881  and count is:- 3200\n",
      "loss is :- 0.5663763  and count is:- 3300\n",
      "loss is :- 0.82522404  and count is:- 3400\n",
      "loss is :- 0.6773124  and count is:- 3500\n",
      "loss is :- 1.06496  and count is:- 3600\n",
      "loss is :- 0.8454013  and count is:- 3700\n",
      "loss is :- 0.8296045  and count is:- 3800\n",
      "loss is :- 1.0548697  and count is:- 3900\n",
      "loss is :- 0.46994677  and count is:- 4000\n",
      "loss is :- 0.9693053  and count is:- 4100\n",
      "loss is :- 1.0040184  and count is:- 4200\n",
      "loss is :- 0.6059209  and count is:- 4300\n",
      "loss is :- 0.96743774  and count is:- 4400\n",
      "loss is :- 0.8654432  and count is:- 4500\n",
      "loss is :- 0.9637674  and count is:- 4600\n",
      "loss is :- 0.42481586  and count is:- 4700\n",
      "loss is :- 0.9642744  and count is:- 4800\n",
      "loss is :- 1.1053904  and count is:- 4900\n",
      "loss is :- 1.06125  and count is:- 5000\n",
      "loss is :- 1.0308074  and count is:- 5100\n",
      "loss is :- 0.6814003  and count is:- 5200\n",
      "loss is :- 0.71622694  and count is:- 5300\n",
      "loss is :- 1.1509598  and count is:- 5400\n",
      "loss is :- 1.0029768  and count is:- 5500\n",
      "loss is :- 1.0231084  and count is:- 5600\n",
      "loss is :- 0.5676671  and count is:- 5700\n",
      "loss is :- 1.0560396  and count is:- 5800\n",
      "loss is :- 0.4945599  and count is:- 5900\n",
      "loss is :- 0.74796677  and count is:- 6000\n",
      "loss is :- 1.0269861  and count is:- 6100\n",
      "loss is :- 0.622285  and count is:- 6200\n",
      "loss is :- 0.6307664  and count is:- 6300\n",
      "loss is :- 1.1308937  and count is:- 6400\n",
      "loss is :- 0.76137257  and count is:- 6500\n",
      "loss is :- 0.6772611  and count is:- 6600\n",
      "loss is :- 0.61309403  and count is:- 6700\n",
      "loss is :- 0.78584474  and count is:- 6800\n",
      "loss is :- 0.6465506  and count is:- 6900\n",
      "loss is :- 0.6276079  and count is:- 7000\n",
      "loss is :- 1.0304748  and count is:- 7100\n",
      "loss is :- 0.61239856  and count is:- 7200\n",
      "loss is :- 1.1253309  and count is:- 7300\n",
      "loss is :- 0.5851862  and count is:- 7400\n",
      "loss is :- 0.73271775  and count is:- 7500\n",
      "loss is :- 0.7948822  and count is:- 7600\n",
      "loss is :- 0.81438774  and count is:- 7700\n",
      "loss is :- 0.8107234  and count is:- 7800\n",
      "loss is :- 0.63945115  and count is:- 7900\n",
      "loss is :- 0.70331925  and count is:- 8000\n",
      "loss is :- 0.4340133  and count is:- 8100\n",
      "loss is :- 0.5802367  and count is:- 8200\n",
      "loss is :- 0.6932611  and count is:- 8300\n",
      "loss is :- 0.69844437  and count is:- 8400\n",
      "loss is :- 0.5774024  and count is:- 8500\n",
      "loss is :- 0.9937399  and count is:- 8600\n",
      "loss is :- 0.7386269  and count is:- 8700\n",
      "loss is :- 0.56509906  and count is:- 8800\n",
      "loss is :- 0.63575923  and count is:- 8900\n",
      "loss is :- 0.6536551  and count is:- 9000\n",
      "loss is :- 0.8735624  and count is:- 9100\n",
      "loss is :- 0.6757804  and count is:- 9200\n",
      "loss is :- 0.85812473  and count is:- 9300\n",
      "loss is :- 0.89583606  and count is:- 9400\n",
      "loss is :- 0.7403506  and count is:- 9500\n",
      "loss is :- 0.59246755  and count is:- 9600\n",
      "loss is :- 1.1959332  and count is:- 9700\n",
      "loss is :- 0.99599123  and count is:- 9800\n",
      "loss is :- 0.77734905  and count is:- 9900\n",
      "loss is :- 1.213788  and count is:- 10000\n",
      "loss is :- 0.42842874  and count is:- 10100\n",
      "loss is :- 0.576115  and count is:- 10200\n",
      "loss is :- 0.85045373  and count is:- 10300\n",
      "loss is :- 0.60688907  and count is:- 10400\n",
      "loss is :- 0.6329421  and count is:- 10500\n",
      "loss is :- 0.65134  and count is:- 10600\n",
      "loss is :- 0.783623  and count is:- 10700\n",
      "loss is :- 0.6345198  and count is:- 10800\n",
      "loss is :- 0.8726646  and count is:- 10900\n",
      "loss is :- 0.47315526  and count is:- 11000\n",
      "loss is :- 0.7017283  and count is:- 11100\n",
      "loss is :- 0.7367073  and count is:- 11200\n",
      "loss is :- 0.68091464  and count is:- 11300\n",
      "loss is :- 0.69075835  and count is:- 11400\n",
      "loss is :- 0.6584833  and count is:- 11500\n",
      "loss is :- 0.50255966  and count is:- 11600\n",
      "loss is :- 0.60900587  and count is:- 11700\n",
      "loss is :- 0.5754302  and count is:- 11800\n",
      "loss is :- 0.7451512  and count is:- 11900\n",
      "loss is :- 0.41956946  and count is:- 12000\n",
      "loss is :- 0.60733736  and count is:- 12100\n",
      "loss is :- 0.90076435  and count is:- 12200\n",
      "loss is :- 0.4376602  and count is:- 12300\n",
      "loss is :- 0.3624146  and count is:- 12400\n",
      "loss is :- 0.4090315  and count is:- 12500\n",
      "loss is :- 0.59634185  and count is:- 12600\n",
      "loss is :- 0.5437107  and count is:- 12700\n",
      "loss is :- 0.38651854  and count is:- 12800\n",
      "loss is :- 0.6791539  and count is:- 12900\n",
      "loss is :- 0.6811145  and count is:- 13000\n",
      "loss is :- 0.42209366  and count is:- 13100\n",
      "loss is :- 0.794091  and count is:- 13200\n",
      "loss is :- 0.79978746  and count is:- 13300\n",
      "loss is :- 0.5562812  and count is:- 13400\n",
      "loss is :- 0.6656923  and count is:- 13500\n",
      "loss is :- 1.1068257  and count is:- 13600\n",
      "loss is :- 0.60130787  and count is:- 13700\n",
      "loss is :- 0.5847156  and count is:- 13800\n",
      "loss is :- 0.55230784  and count is:- 13900\n",
      "loss is :- 0.6371022  and count is:- 14000\n",
      "loss is :- 0.7435446  and count is:- 14100\n",
      "loss is :- 0.6913073  and count is:- 14200\n",
      "loss is :- 0.49668837  and count is:- 14300\n",
      "loss is :- 1.0861256  and count is:- 14400\n",
      "loss is :- 0.76708674  and count is:- 14500\n",
      "loss is :- 0.60682464  and count is:- 14600\n",
      "loss is :- 0.8413819  and count is:- 14700\n",
      "loss is :- 0.73963267  and count is:- 14800\n",
      "loss is :- 0.889812  and count is:- 14900\n",
      "loss is :- 0.9087413  and count is:- 15000\n",
      "loss is :- 0.5859846  and count is:- 15100\n",
      "loss is :- 0.42473465  and count is:- 15200\n",
      "loss is :- 0.72871614  and count is:- 15300\n",
      "loss is :- 1.0395252  and count is:- 15400\n",
      "loss is :- 0.56193686  and count is:- 15500\n",
      "loss is :- 1.2872894  and count is:- 15600\n"
     ]
    }
   ],
   "source": [
    "trainloss=[]\n",
    "count=0\n",
    "n=len(xtrain)\n",
    "m=n//batchsize\n",
    "for i in range(nepochs):\n",
    "    for j in range(m):\n",
    "        \n",
    "        batchx=torch.from_numpy(xtrain1[j*batchsize:(j+1)*batchsize])\n",
    "        batchy=torch.from_numpy(ytrain[j*batchsize:(j+1)*batchsize]).long()\n",
    "        optim1.zero_grad()\n",
    "        batchx=batchx.to(device1)\n",
    "        batchy=batchy.to(device1)\n",
    "        \n",
    "        output=model1.forward(batchx)\n",
    "        \n",
    "        # print(output.shape)\n",
    "        # print(batchy.shape)\n",
    "        l=loss1(output,batchy.reshape(-1,))\n",
    "        l.backward()\n",
    "        optim1.step()\n",
    "        count+=1\n",
    "        trainloss.append(l.detach().cpu().numpy())\n",
    "        if count%100==0:\n",
    "            print(\"loss is :-\",l.detach().cpu().numpy(),\" and count is:-\",count)\n",
    "        "
   ]
  },
  {
   "cell_type": "code",
   "execution_count": 32,
   "metadata": {},
   "outputs": [
    {
     "data": {
      "text/plain": [
       "[<matplotlib.lines.Line2D at 0x7f64a41d0470>]"
      ]
     },
     "execution_count": 32,
     "metadata": {},
     "output_type": "execute_result"
    },
    {
     "data": {
      "image/png": "[encoded data removed]",
      "text/plain": [
       "<Figure size 432x288 with 1 Axes>"
      ]
     },
     "metadata": {
      "needs_background": "light"
     },
     "output_type": "display_data"
    }
   ],
   "source": [
    "#detach() will remove loss from graph \n",
    "#cpu() will move tensor to cpu\n",
    "plt.plot(trainloss)"
   ]
  },
  {
   "cell_type": "code",
   "execution_count": null,
   "metadata": {},
   "outputs": [],
   "source": []
  }
 ],
 "metadata": {
  "kernelspec": {
   "display_name": "Python 3",
   "language": "python",
   "name": "python3"
  },
  "language_info": {
   "codemirror_mode": {
    "name": "ipython",
    "version": 3
   },
   "file_extension": ".py",
   "mimetype": "text/x-python",
   "name": "python",
   "nbconvert_exporter": "python",
   "pygments_lexer": "ipython3",
   "version": "3.6.6"
  }
 },
 "nbformat": 4,
 "nbformat_minor": 1
}
